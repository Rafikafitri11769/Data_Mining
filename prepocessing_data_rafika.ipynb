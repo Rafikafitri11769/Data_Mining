{
  "nbformat": 4,
  "nbformat_minor": 0,
  "metadata": {
    "colab": {
      "name": "prepocessing_data_rafika.ipynb",
      "provenance": [],
      "authorship_tag": "ABX9TyOmofiLRg+WSFfKUmh1dKLg",
      "include_colab_link": true
    },
    "kernelspec": {
      "name": "python3",
      "display_name": "Python 3"
    },
    "language_info": {
      "name": "python"
    }
  },
  "cells": [
    {
      "cell_type": "markdown",
      "metadata": {
        "id": "view-in-github",
        "colab_type": "text"
      },
      "source": [
        "<a href=\"https://colab.research.google.com/github/Rafikafitri11769/Data_Mining/blob/main/prepocessing_data_rafika.ipynb\" target=\"_parent\"><img src=\"https://colab.research.google.com/assets/colab-badge.svg\" alt=\"Open In Colab\"/></a>"
      ]
    },
    {
      "cell_type": "markdown",
      "source": [
        "#Rafika Fitri H\n",
        "#A11.2019.11769"
      ],
      "metadata": {
        "id": "X20_yPil-2zd"
      }
    },
    {
      "cell_type": "code",
      "execution_count": 1,
      "metadata": {
        "id": "_E6o3JMO4Jgf"
      },
      "outputs": [],
      "source": [
        "import numpy as np\n",
        "import matplotlib.pyplot as plt\n",
        "import pandas as pd"
      ]
    },
    {
      "cell_type": "code",
      "source": [
        "dataset = pd.read_csv(\"DataPreProses.csv\")\n",
        "x = dataset.iloc[:, :-1].values\n",
        "y = dataset.iloc[:, -1].values"
      ],
      "metadata": {
        "id": "ErerhUKL4anm"
      },
      "execution_count": 2,
      "outputs": []
    },
    {
      "cell_type": "code",
      "source": [
        "print(x)"
      ],
      "metadata": {
        "colab": {
          "base_uri": "https://localhost:8080/"
        },
        "id": "JwxRJid54dtH",
        "outputId": "c2b13206-b644-4791-d0c0-3690a3cecbd9"
      },
      "execution_count": 3,
      "outputs": [
        {
          "output_type": "stream",
          "name": "stdout",
          "text": [
            "[]\n"
          ]
        }
      ]
    },
    {
      "cell_type": "code",
      "source": [
        "print(y)"
      ],
      "metadata": {
        "colab": {
          "base_uri": "https://localhost:8080/"
        },
        "id": "tIKbzuRl4ivf",
        "outputId": "fe036ebb-8b2f-4e0a-a664-308c5367f771"
      },
      "execution_count": 4,
      "outputs": [
        {
          "output_type": "stream",
          "name": "stdout",
          "text": [
            "['SATIRAH;45;3374094607500002;JANDA MANULA MISKIN;SANGAT TERDAMPAK'\n",
            " 'SUPRIYO;40;3374090101660001;BURUH;SANGAT TERDAMPAK'\n",
            " 'TUKINI;39;3374097112520046;BURUH MANULA;SANGAT TERDAMPAK'\n",
            " 'TUKIYO BJ;50;3374093012780004;BURUH;SANGAT TERDAMPAK'\n",
            " 'MALIK;35;3318151203880005;BURUH;SANGAT TERDAMPAK'\n",
            " 'YUDIANA;30;3374092612810003;DRIVER OJEK ONLINE;CUKUP TERDAMPAK'\n",
            " 'PRATAMA AGUS P;47;3374090108930001;BURUH DIRUMAHKAN;SANGAT TERDAMPAK'\n",
            " 'KUSTIYO;48;3374092101670004;WIRASWASTA;TERDAMPAK'\n",
            " 'TEGUH RIYANTO;;3374091205840003;DRIVER OJEK ONLINE;CUKUP TERDAMPAK'\n",
            " 'WANTI;39;3374095008780002;BURUH;SANGAT TERDAMPAK']\n"
          ]
        }
      ]
    },
    {
      "cell_type": "code",
      "source": [
        "from sklearn.impute import SimpleImputer\n",
        "imputer = SimpleImputer(missing_values=np. , strategy='mean')\n",
        "imputer.fit(x[: 1:4])\n",
        "x[:, 1:4] = imputer.transform(x[:, 1:4])"
      ],
      "metadata": {
        "id": "SU5PfslW5fY3"
      },
      "execution_count": null,
      "outputs": []
    },
    {
      "cell_type": "code",
      "source": [
        "print(x)"
      ],
      "metadata": {
        "colab": {
          "base_uri": "https://localhost:8080/"
        },
        "id": "XBjgMGks5lEQ",
        "outputId": "e9d99674-d0b4-43ff-d12b-d47bed0c9460"
      },
      "execution_count": 7,
      "outputs": [
        {
          "output_type": "stream",
          "name": "stdout",
          "text": [
            "[]\n"
          ]
        }
      ]
    },
    {
      "cell_type": "code",
      "source": [
        "from sklearn.compose import ColumnTransformer\n",
        "from sklearn.preprocessing import OneHotEncoder\n",
        "ct = ColumnTransformer(transformers=[('encoder', OneHotEncoder(), [0])], remainder='passthrough')\n",
        "x = np.array(ct.fit_transform(x))"
      ],
      "metadata": {
        "id": "DITxbMMZ7J0w"
      },
      "execution_count": null,
      "outputs": []
    },
    {
      "cell_type": "code",
      "source": [
        "print(x)"
      ],
      "metadata": {
        "colab": {
          "base_uri": "https://localhost:8080/"
        },
        "id": "BFRoQwpB7KuB",
        "outputId": "4754e56d-54a1-4e48-ee25-9a1ff4879669"
      },
      "execution_count": 10,
      "outputs": [
        {
          "output_type": "stream",
          "name": "stdout",
          "text": [
            "[]\n"
          ]
        }
      ]
    },
    {
      "cell_type": "code",
      "source": [
        "from sklearn.preprocessing import LabelEncoder\n",
        "le = LabelEncoder()\n",
        "y = le.fit_transform(y)\n"
      ],
      "metadata": {
        "id": "prTCzBtr7RT6"
      },
      "execution_count": 11,
      "outputs": []
    },
    {
      "cell_type": "code",
      "source": [
        "print(y)"
      ],
      "metadata": {
        "colab": {
          "base_uri": "https://localhost:8080/"
        },
        "id": "CytZj6vT7mHZ",
        "outputId": "957157bc-bf0e-41c4-cc00-04dec56e4569"
      },
      "execution_count": 12,
      "outputs": [
        {
          "output_type": "stream",
          "name": "stdout",
          "text": [
            "[3 4 6 7 1 9 2 0 5 8]\n"
          ]
        }
      ]
    },
    {
      "cell_type": "code",
      "source": [
        "from sklearn.model_selection import train_test_split\n",
        "x_train, x_test, y_train, y_test = train_test_split(x, y, test_size=0.2, random_state=1)"
      ],
      "metadata": {
        "id": "6gZej-CI8fnu"
      },
      "execution_count": 14,
      "outputs": []
    },
    {
      "cell_type": "code",
      "source": [
        "print(x_train)"
      ],
      "metadata": {
        "colab": {
          "base_uri": "https://localhost:8080/"
        },
        "id": "socjTSCt8gTq",
        "outputId": "660b57c4-aea2-4994-f1d9-3e64c8b8b80d"
      },
      "execution_count": 15,
      "outputs": [
        {
          "output_type": "stream",
          "name": "stdout",
          "text": [
            "[]\n"
          ]
        }
      ]
    },
    {
      "cell_type": "code",
      "source": [
        "print(x_test)"
      ],
      "metadata": {
        "colab": {
          "base_uri": "https://localhost:8080/"
        },
        "id": "kt9W5PtE8s6N",
        "outputId": "782c985e-09c8-4d8a-8c4a-eeae5cb5e0ab"
      },
      "execution_count": 16,
      "outputs": [
        {
          "output_type": "stream",
          "name": "stdout",
          "text": [
            "[]\n"
          ]
        }
      ]
    },
    {
      "cell_type": "code",
      "source": [
        "print(y_train)"
      ],
      "metadata": {
        "colab": {
          "base_uri": "https://localhost:8080/"
        },
        "id": "HuEymd1s82a0",
        "outputId": "daf9a3a4-f341-4b5b-9aa5-78d47a3b403d"
      },
      "execution_count": 17,
      "outputs": [
        {
          "output_type": "stream",
          "name": "stdout",
          "text": [
            "[2 1 3 7 4 0 5 9]\n"
          ]
        }
      ]
    },
    {
      "cell_type": "code",
      "source": [
        "print(y_test)"
      ],
      "metadata": {
        "colab": {
          "base_uri": "https://localhost:8080/"
        },
        "id": "5056DL5s86sv",
        "outputId": "0123be37-17ff-4656-cbbf-0b615e629704"
      },
      "execution_count": 18,
      "outputs": [
        {
          "output_type": "stream",
          "name": "stdout",
          "text": [
            "[6 8]\n"
          ]
        }
      ]
    },
    {
      "cell_type": "code",
      "source": [
        "from sklearn.preprocessing import StandardScaler\n",
        "sc = StandardScaler()\n",
        "x_train[:, 2:] = sc.fit_transform(x_train[:, 2:])\n",
        "x_test[:, 2:] = sc.transform(x_test[:, 2:])"
      ],
      "metadata": {
        "id": "cXht74GH-fNM"
      },
      "execution_count": null,
      "outputs": []
    },
    {
      "cell_type": "code",
      "source": [
        "print(x_train)"
      ],
      "metadata": {
        "colab": {
          "base_uri": "https://localhost:8080/"
        },
        "id": "qn0ale6m-f9T",
        "outputId": "63292e5c-4c9b-49a7-b5eb-2fa1ecf6daf9"
      },
      "execution_count": 23,
      "outputs": [
        {
          "output_type": "stream",
          "name": "stdout",
          "text": [
            "[]\n"
          ]
        }
      ]
    },
    {
      "cell_type": "code",
      "source": [
        "print(x_test)"
      ],
      "metadata": {
        "colab": {
          "base_uri": "https://localhost:8080/"
        },
        "id": "94Nd_6Uv-kpt",
        "outputId": "fe0be857-8c91-44ca-df3c-7f8833bc499a"
      },
      "execution_count": 24,
      "outputs": [
        {
          "output_type": "stream",
          "name": "stdout",
          "text": [
            "[]\n"
          ]
        }
      ]
    }
  ]
}