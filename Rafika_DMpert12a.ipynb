{
  "nbformat": 4,
  "nbformat_minor": 0,
  "metadata": {
    "colab": {
      "name": "Rafika.DMpert12a.ipynb",
      "provenance": [],
      "authorship_tag": "ABX9TyOlKwgnsGgMIhkQMoPUpzzb",
      "include_colab_link": true
    },
    "kernelspec": {
      "name": "python3",
      "display_name": "Python 3"
    },
    "language_info": {
      "name": "python"
    }
  },
  "cells": [
    {
      "cell_type": "markdown",
      "metadata": {
        "id": "view-in-github",
        "colab_type": "text"
      },
      "source": [
        "<a href=\"https://colab.research.google.com/github/Rafikafitri11769/Data_Mining/blob/main/Rafika_DMpert12a.ipynb\" target=\"_parent\"><img src=\"https://colab.research.google.com/assets/colab-badge.svg\" alt=\"Open In Colab\"/></a>"
      ]
    },
    {
      "cell_type": "code",
      "execution_count": 1,
      "metadata": {
        "id": "X6xP6GCNkuDk"
      },
      "outputs": [],
      "source": [
        "# import library yang diperlukan Scipy\n",
        "from scipy import stats"
      ]
    },
    {
      "cell_type": "code",
      "source": [
        "# x = Data Usia Mobil (tahun)\n",
        "x = [5,4,6,5,5,5,6,6,2,7,7]"
      ],
      "metadata": {
        "id": "UINQ_Yvrk8kj"
      },
      "execution_count": 2,
      "outputs": []
    },
    {
      "cell_type": "code",
      "source": [
        "# y = Data Harga Mobil ($100)\n",
        "y = [85,103,70,82,89,98,66,95,169,70,48]"
      ],
      "metadata": {
        "id": "d2sBXVqslQ4k"
      },
      "execution_count": 3,
      "outputs": []
    },
    {
      "cell_type": "code",
      "source": [
        "slope, intercept, r, p, std_err = stats.linregress(x,y)\n"
      ],
      "metadata": {
        "id": "RorbmS9kmReS"
      },
      "execution_count": 4,
      "outputs": []
    },
    {
      "cell_type": "code",
      "source": [
        "# Buat Fungsi Linear Regresi => y = 195,4 - 20,26x\n",
        "def myFunc(x):\n",
        "  return slope * x + intercept\n",
        "  "
      ],
      "metadata": {
        "id": "fGpESZ2emi_2"
      },
      "execution_count": 5,
      "outputs": []
    },
    {
      "cell_type": "code",
      "source": [
        "harga_mobil = myFunc(5)\n",
        "print(harga_mobil)"
      ],
      "metadata": {
        "id": "uj9lmUkknYAG"
      },
      "execution_count": null,
      "outputs": []
    },
    {
      "cell_type": "code",
      "source": [
        ""
      ],
      "metadata": {
        "id": "j9X5YmTonoRe"
      },
      "execution_count": null,
      "outputs": []
    }
  ]
}