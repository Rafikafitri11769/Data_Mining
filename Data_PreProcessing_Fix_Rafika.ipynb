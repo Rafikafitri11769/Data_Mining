{
  "nbformat": 4,
  "nbformat_minor": 0,
  "metadata": {
    "colab": {
      "name": "Data PreProcessing Fix Rafika.ipynb",
      "provenance": [],
      "authorship_tag": "ABX9TyO7TP7ENDqYDuAYfgmbYFT0",
      "include_colab_link": true
    },
    "kernelspec": {
      "name": "python3",
      "display_name": "Python 3"
    },
    "language_info": {
      "name": "python"
    }
  },
  "cells": [
    {
      "cell_type": "markdown",
      "metadata": {
        "id": "view-in-github",
        "colab_type": "text"
      },
      "source": [
        "<a href=\"https://colab.research.google.com/github/Rafikafitri11769/Data_Mining/blob/main/Data_PreProcessing_Fix_Rafika.ipynb\" target=\"_parent\"><img src=\"https://colab.research.google.com/assets/colab-badge.svg\" alt=\"Open In Colab\"/></a>"
      ]
    },
    {
      "cell_type": "code",
      "execution_count": 1,
      "metadata": {
        "id": "ORtgVYJveBkG"
      },
      "outputs": [],
      "source": [
        "import numpy as np\n",
        "import matplotlib.pyplot as plt\n",
        "import pandas as pd"
      ]
    },
    {
      "cell_type": "code",
      "source": [
        "dataset = pd.read_csv('data.csv - Sheet1.csv')\n",
        "x = dataset.iloc[:, :-1].values\n",
        "y = dataset.iloc[:, -1].values"
      ],
      "metadata": {
        "id": "w3H3vccDeJ7k"
      },
      "execution_count": 2,
      "outputs": []
    },
    {
      "cell_type": "code",
      "source": [
        "print(x)"
      ],
      "metadata": {
        "colab": {
          "base_uri": "https://localhost:8080/"
        },
        "id": "P0_Wu15meNUt",
        "outputId": "84e1a8df-ab3d-436d-bd7a-727cfb802a3c"
      },
      "execution_count": 3,
      "outputs": [
        {
          "output_type": "stream",
          "name": "stdout",
          "text": [
            "[['SATIRAH' 55.0 3.0]\n",
            " ['SUPRIYO' 49.0 3.0]\n",
            " ['TUKINI' 58.0 3.0]\n",
            " ['TUKIYO BJ' 50.0 3.0]\n",
            " ['MALIK' 40.0 nan]\n",
            " ['YUDIANA' 39.0 2.0]\n",
            " ['PRATAMA AGUS P' nan 3.0]\n",
            " ['KUSTIYO' 56.0 1.0]\n",
            " ['TEGUH RIYANTO' 45.0 2.0]\n",
            " ['WANTI' 40.0 3.0]]\n"
          ]
        }
      ]
    },
    {
      "cell_type": "code",
      "source": [
        "print(y)"
      ],
      "metadata": {
        "colab": {
          "base_uri": "https://localhost:8080/"
        },
        "id": "UsLc5CNveP4k",
        "outputId": "1883050b-b102-4a69-d837-0bd1ada70a65"
      },
      "execution_count": 4,
      "outputs": [
        {
          "output_type": "stream",
          "name": "stdout",
          "text": [
            "['SANGAT TERDAMPAK' 'SANGAT TERDAMPAK' 'SANGAT TERDAMPAK'\n",
            " 'SANGAT TERDAMPAK' 'SANGAT TERDAMPAK' 'CUKUP TERDAMPAK'\n",
            " 'SANGAT TERDAMPAK' 'TERDAMPAK' 'CUKUP TERDAMPAK' 'SANGAT TERDAMPAK']\n"
          ]
        }
      ]
    },
    {
      "cell_type": "code",
      "source": [
        "from sklearn.impute import SimpleImputer\n",
        "imputer = SimpleImputer(missing_values=np.nan, strategy='mean')\n",
        "imputer.fit(x[:, 1:3])\n",
        "x[:, 1:3] = imputer.transform(x[:, 1:3])"
      ],
      "metadata": {
        "id": "e0mj4iN4eW23"
      },
      "execution_count": 5,
      "outputs": []
    },
    {
      "cell_type": "code",
      "source": [
        "print(x)"
      ],
      "metadata": {
        "colab": {
          "base_uri": "https://localhost:8080/"
        },
        "id": "Fxq0udr5eZ_v",
        "outputId": "ae3dc852-d4b0-4790-d562-8e6b0d61c22a"
      },
      "execution_count": 6,
      "outputs": [
        {
          "output_type": "stream",
          "name": "stdout",
          "text": [
            "[['SATIRAH' 55.0 3.0]\n",
            " ['SUPRIYO' 49.0 3.0]\n",
            " ['TUKINI' 58.0 3.0]\n",
            " ['TUKIYO BJ' 50.0 3.0]\n",
            " ['MALIK' 40.0 2.5555555555555554]\n",
            " ['YUDIANA' 39.0 2.0]\n",
            " ['PRATAMA AGUS P' 48.0 3.0]\n",
            " ['KUSTIYO' 56.0 1.0]\n",
            " ['TEGUH RIYANTO' 45.0 2.0]\n",
            " ['WANTI' 40.0 3.0]]\n"
          ]
        }
      ]
    },
    {
      "cell_type": "code",
      "source": [
        "from sklearn.compose import ColumnTransformer\n",
        "from sklearn.preprocessing import OneHotEncoder\n",
        "ct = ColumnTransformer(transformers=[('encoder', OneHotEncoder(),[0])], remainder='passthrough')\n",
        "x = np.array(ct.fit_transform(x))"
      ],
      "metadata": {
        "id": "qY5ayCL5ed8l"
      },
      "execution_count": 7,
      "outputs": []
    },
    {
      "cell_type": "code",
      "source": [
        "print(x)"
      ],
      "metadata": {
        "colab": {
          "base_uri": "https://localhost:8080/"
        },
        "id": "xv8-pY1LegZU",
        "outputId": "720b7d1a-bbd2-495b-ed50-be5fc24c0e33"
      },
      "execution_count": 8,
      "outputs": [
        {
          "output_type": "stream",
          "name": "stdout",
          "text": [
            "  (0, 3)\t1.0\n",
            "  (0, 10)\t55.0\n",
            "  (0, 11)\t3.0\n",
            "  (1, 4)\t1.0\n",
            "  (1, 10)\t49.0\n",
            "  (1, 11)\t3.0\n",
            "  (2, 6)\t1.0\n",
            "  (2, 10)\t58.0\n",
            "  (2, 11)\t3.0\n",
            "  (3, 7)\t1.0\n",
            "  (3, 10)\t50.0\n",
            "  (3, 11)\t3.0\n",
            "  (4, 1)\t1.0\n",
            "  (4, 10)\t40.0\n",
            "  (4, 11)\t2.5555555555555554\n",
            "  (5, 9)\t1.0\n",
            "  (5, 10)\t39.0\n",
            "  (5, 11)\t2.0\n",
            "  (6, 2)\t1.0\n",
            "  (6, 10)\t48.0\n",
            "  (6, 11)\t3.0\n",
            "  (7, 0)\t1.0\n",
            "  (7, 10)\t56.0\n",
            "  (7, 11)\t1.0\n",
            "  (8, 5)\t1.0\n",
            "  (8, 10)\t45.0\n",
            "  (8, 11)\t2.0\n",
            "  (9, 8)\t1.0\n",
            "  (9, 10)\t40.0\n",
            "  (9, 11)\t3.0\n"
          ]
        }
      ]
    },
    {
      "cell_type": "code",
      "source": [
        "from sklearn.preprocessing import LabelEncoder\n",
        "le = LabelEncoder()\n",
        "y = le.fit_transform(y)"
      ],
      "metadata": {
        "id": "Cot9UkZqenCL"
      },
      "execution_count": 9,
      "outputs": []
    },
    {
      "cell_type": "code",
      "source": [
        "print(y)"
      ],
      "metadata": {
        "colab": {
          "base_uri": "https://localhost:8080/"
        },
        "id": "rRoRd6pqepgY",
        "outputId": "e0b9c4f8-e993-4c47-a025-e6e1adf551fd"
      },
      "execution_count": 10,
      "outputs": [
        {
          "output_type": "stream",
          "name": "stdout",
          "text": [
            "[1 1 1 1 1 0 1 2 0 1]\n"
          ]
        }
      ]
    },
    {
      "cell_type": "code",
      "source": [
        "from sklearn.model_selection import train_test_split\n",
        "x_train, x_test, y_train, y_test = train_test_split(x,y, test_size=0.2, random_state=1)"
      ],
      "metadata": {
        "id": "SZEymoW6evdF"
      },
      "execution_count": null,
      "outputs": []
    },
    {
      "cell_type": "code",
      "source": [
        "print(x_train)"
      ],
      "metadata": {
        "id": "3rSSZe0YeyFO"
      },
      "execution_count": null,
      "outputs": []
    },
    {
      "cell_type": "code",
      "source": [
        "print(x_test)"
      ],
      "metadata": {
        "id": "zJMp9LfUezKU"
      },
      "execution_count": null,
      "outputs": []
    },
    {
      "cell_type": "code",
      "source": [
        "print(y_train)"
      ],
      "metadata": {
        "id": "kjIaMc1oe1Dt"
      },
      "execution_count": null,
      "outputs": []
    },
    {
      "cell_type": "code",
      "source": [
        "print(y_test)"
      ],
      "metadata": {
        "id": "HsbU2E1Ue2zr"
      },
      "execution_count": null,
      "outputs": []
    },
    {
      "cell_type": "code",
      "source": [
        "from sklearn.preprocessing import StandardScaler\n",
        "sc = StandardScaler()\n",
        "x_train[:, 3:] = sc.fit_transform(x_train[:, 3:])\n",
        "x_test[:, 3:] = sc.transform(x_test[:, 3:])"
      ],
      "metadata": {
        "id": "gYv64PTwe7sy"
      },
      "execution_count": null,
      "outputs": []
    },
    {
      "cell_type": "code",
      "source": [
        "print(x_train)"
      ],
      "metadata": {
        "id": "_2hStTKne8dz"
      },
      "execution_count": null,
      "outputs": []
    },
    {
      "cell_type": "code",
      "source": [
        "print(x_test)"
      ],
      "metadata": {
        "id": "-nMb6JDUe-jY"
      },
      "execution_count": null,
      "outputs": []
    }
  ]
}